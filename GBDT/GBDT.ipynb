{
 "cells": [
  {
   "cell_type": "code",
   "execution_count": 29,
   "metadata": {
    "collapsed": true
   },
   "outputs": [],
   "source": [
    "import numpy as np\n",
    "import pandas as pd\n",
    "import matplotlib.pyplot as plt\n",
    "from sklearn.ensemble import GradientBoostingClassifier\n",
    "from sklearn import metrics, cross_validation\n",
    "from sklearn.grid_search import GridSearchCV\n",
    "\n",
    "%matplotlib inline"
   ]
  },
  {
   "cell_type": "code",
   "execution_count": 31,
   "metadata": {},
   "outputs": [
    {
     "data": {
      "text/plain": [
       "0    19680\n1      320\nName: Disbursed, dtype: int64"
      ]
     },
     "execution_count": 31,
     "metadata": {},
     "output_type": "execute_result"
    }
   ],
   "source": [
    "train = pd.read_csv('data/train_modified.csv')\n",
    "target = 'Disbursed'\n",
    "IDcol = 'ID'\n",
    "\n",
    "train[target].value_counts()"
   ]
  },
  {
   "cell_type": "code",
   "execution_count": 32,
   "metadata": {},
   "outputs": [],
   "source": [
    "# prepare the data\n",
    "x_columns = [x for x in train.columns if x not in [target, IDcol]]\n",
    "X = train[x_columns]\n",
    "Y = train[target]"
   ]
  },
  {
   "cell_type": "code",
   "execution_count": 33,
   "metadata": {},
   "outputs": [
    {
     "name": "stdout",
     "output_type": "stream",
     "text": [
      "accuracy = 0.9852\nprob = 0.900531\n"
     ]
    }
   ],
   "source": [
    "# 先用默认的方法拟合数据\n",
    "gbm0 = GradientBoostingClassifier(random_state=10)\n",
    "gbm0.fit(X, Y)\n",
    "y_pred = gbm0.predict(X)\n",
    "y_predprob = gbm0.predict_proba(X)[:, 1]\n",
    "print(\"accuracy = %.4g\" % metrics.accuracy_score(Y, y_pred))\n",
    "print(\"prob = %f\" % metrics.roc_auc_score(Y, y_predprob))"
   ]
  },
  {
   "cell_type": "code",
   "execution_count": 35,
   "metadata": {},
   "outputs": [
    {
     "data": {
      "text/plain": [
       "([mean: 0.81285, std: 0.01967, params: {'n_estimators': 20},\n  mean: 0.81438, std: 0.01947, params: {'n_estimators': 30},\n  mean: 0.81404, std: 0.01970, params: {'n_estimators': 40},\n  mean: 0.81593, std: 0.01868, params: {'n_estimators': 50},\n  mean: 0.81927, std: 0.01596, params: {'n_estimators': 60},\n  mean: 0.81722, std: 0.01750, params: {'n_estimators': 70},\n  mean: 0.81485, std: 0.01732, params: {'n_estimators': 80}],\n {'n_estimators': 60},\n 0.8192660696138212)"
      ]
     },
     "execution_count": 35,
     "metadata": {},
     "output_type": "execute_result"
    }
   ],
   "source": [
    "# 首先设置一个较小的时间步长来搜索最好的迭代次数\n",
    "param_test1 = {'n_estimators':np.arange(20, 81, 10)}\n",
    "gsearch1 = GridSearchCV(estimator=GradientBoostingClassifier(learning_rate=0.1, min_samples_split=300\n",
    "            , min_samples_leaf=20, max_depth=8, max_features='sqrt',subsample=0.8, random_state=10)\n",
    "            , param_grid=param_test1, scoring='roc_auc', iid=False, cv=5)\n",
    "gsearch1.fit(X, Y)\n",
    "gsearch1.grid_scores_, gsearch1.best_params_, gsearch1.best_score_"
   ]
  },
  {
   "cell_type": "code",
   "execution_count": 38,
   "metadata": {},
   "outputs": [
    {
     "data": {
      "text/plain": [
       "([mean: 0.81199, std: 0.02073, params: {'max_depth': 3, 'min_samples_split': 100},\n  mean: 0.81267, std: 0.01985, params: {'max_depth': 3, 'min_samples_split': 300},\n  mean: 0.81238, std: 0.01937, params: {'max_depth': 3, 'min_samples_split': 500},\n  mean: 0.80925, std: 0.02051, params: {'max_depth': 3, 'min_samples_split': 700},\n  mean: 0.81846, std: 0.01843, params: {'max_depth': 5, 'min_samples_split': 100},\n  mean: 0.81630, std: 0.01810, params: {'max_depth': 5, 'min_samples_split': 300},\n  mean: 0.81315, std: 0.01898, params: {'max_depth': 5, 'min_samples_split': 500},\n  mean: 0.81262, std: 0.02090, params: {'max_depth': 5, 'min_samples_split': 700},\n  mean: 0.81807, std: 0.02004, params: {'max_depth': 7, 'min_samples_split': 100},\n  mean: 0.82137, std: 0.01733, params: {'max_depth': 7, 'min_samples_split': 300},\n  mean: 0.81681, std: 0.01786, params: {'max_depth': 7, 'min_samples_split': 500},\n  mean: 0.81383, std: 0.02327, params: {'max_depth': 7, 'min_samples_split': 700},\n  mean: 0.81094, std: 0.02178, params: {'max_depth': 9, 'min_samples_split': 100},\n  mean: 0.80944, std: 0.02612, params: {'max_depth': 9, 'min_samples_split': 300},\n  mean: 0.81476, std: 0.01973, params: {'max_depth': 9, 'min_samples_split': 500},\n  mean: 0.81601, std: 0.02576, params: {'max_depth': 9, 'min_samples_split': 700},\n  mean: 0.81164, std: 0.02265, params: {'max_depth': 11, 'min_samples_split': 100},\n  mean: 0.81309, std: 0.02696, params: {'max_depth': 11, 'min_samples_split': 300},\n  mean: 0.81693, std: 0.02396, params: {'max_depth': 11, 'min_samples_split': 500},\n  mean: 0.81347, std: 0.02702, params: {'max_depth': 11, 'min_samples_split': 700},\n  mean: 0.81480, std: 0.01779, params: {'max_depth': 13, 'min_samples_split': 100},\n  mean: 0.80912, std: 0.02153, params: {'max_depth': 13, 'min_samples_split': 300},\n  mean: 0.81923, std: 0.01693, params: {'max_depth': 13, 'min_samples_split': 500},\n  mean: 0.81382, std: 0.02258, params: {'max_depth': 13, 'min_samples_split': 700}],\n {'max_depth': 7, 'min_samples_split': 300},\n 0.8213724275914632)"
      ]
     },
     "execution_count": 38,
     "metadata": {},
     "output_type": "execute_result"
    }
   ],
   "source": [
    "param_test2 = {'max_depth': np.arange(3, 14, 2), 'min_samples_split': np.arange(100, 801, 200)}\n",
    "gsearch2 = gsearch1 = GridSearchCV(estimator=GradientBoostingClassifier(learning_rate=0.1\n",
    "            , n_estimators=60, min_samples_leaf=20, max_features='sqrt',subsample=0.8, random_state=10)\n",
    "            , param_grid=param_test2, scoring='roc_auc', iid=False, cv=5)\n",
    "gsearch2.fit(X, Y)\n",
    "gsearch1.grid_scores_, gsearch1.best_params_, gsearch1.best_score_\n"
   ]
  },
  {
   "cell_type": "code",
   "execution_count": 41,
   "metadata": {},
   "outputs": [
    {
     "data": {
      "text/plain": [
       "([mean: 0.81828, std: 0.02251, params: {'min_samples_leaf': 60, 'min_samples_split': 800},\n  mean: 0.81731, std: 0.02344, params: {'min_samples_leaf': 60, 'min_samples_split': 1000},\n  mean: 0.82220, std: 0.02250, params: {'min_samples_leaf': 60, 'min_samples_split': 1200},\n  mean: 0.81447, std: 0.02125, params: {'min_samples_leaf': 60, 'min_samples_split': 1400},\n  mean: 0.81495, std: 0.01626, params: {'min_samples_leaf': 60, 'min_samples_split': 1600},\n  mean: 0.81528, std: 0.02140, params: {'min_samples_leaf': 60, 'min_samples_split': 1800},\n  mean: 0.81590, std: 0.02517, params: {'min_samples_leaf': 70, 'min_samples_split': 800},\n  mean: 0.81573, std: 0.02207, params: {'min_samples_leaf': 70, 'min_samples_split': 1000},\n  mean: 0.82021, std: 0.02521, params: {'min_samples_leaf': 70, 'min_samples_split': 1200},\n  mean: 0.81512, std: 0.01995, params: {'min_samples_leaf': 70, 'min_samples_split': 1400},\n  mean: 0.81395, std: 0.02081, params: {'min_samples_leaf': 70, 'min_samples_split': 1600},\n  mean: 0.81587, std: 0.02082, params: {'min_samples_leaf': 70, 'min_samples_split': 1800},\n  mean: 0.82064, std: 0.02698, params: {'min_samples_leaf': 80, 'min_samples_split': 800},\n  mean: 0.81490, std: 0.02475, params: {'min_samples_leaf': 80, 'min_samples_split': 1000},\n  mean: 0.82009, std: 0.02568, params: {'min_samples_leaf': 80, 'min_samples_split': 1200},\n  mean: 0.81850, std: 0.02226, params: {'min_samples_leaf': 80, 'min_samples_split': 1400},\n  mean: 0.81855, std: 0.02099, params: {'min_samples_leaf': 80, 'min_samples_split': 1600},\n  mean: 0.81666, std: 0.02249, params: {'min_samples_leaf': 80, 'min_samples_split': 1800},\n  mean: 0.81960, std: 0.02437, params: {'min_samples_leaf': 90, 'min_samples_split': 800},\n  mean: 0.81560, std: 0.02235, params: {'min_samples_leaf': 90, 'min_samples_split': 1000},\n  mean: 0.81936, std: 0.02542, params: {'min_samples_leaf': 90, 'min_samples_split': 1200},\n  mean: 0.81362, std: 0.02254, params: {'min_samples_leaf': 90, 'min_samples_split': 1400},\n  mean: 0.81429, std: 0.02417, params: {'min_samples_leaf': 90, 'min_samples_split': 1600},\n  mean: 0.81299, std: 0.02262, params: {'min_samples_leaf': 90, 'min_samples_split': 1800},\n  mean: 0.82000, std: 0.02511, params: {'min_samples_leaf': 100, 'min_samples_split': 800},\n  mean: 0.82209, std: 0.01816, params: {'min_samples_leaf': 100, 'min_samples_split': 1000},\n  mean: 0.81821, std: 0.02337, params: {'min_samples_leaf': 100, 'min_samples_split': 1200},\n  mean: 0.81940, std: 0.02404, params: {'min_samples_leaf': 100, 'min_samples_split': 1400},\n  mean: 0.81545, std: 0.02221, params: {'min_samples_leaf': 100, 'min_samples_split': 1600},\n  mean: 0.81704, std: 0.02509, params: {'min_samples_leaf': 100, 'min_samples_split': 1800}],\n {'min_samples_leaf': 60, 'min_samples_split': 1200},\n 0.8222032996697154)"
      ]
     },
     "execution_count": 41,
     "metadata": {},
     "output_type": "execute_result"
    }
   ],
   "source": [
    "param_test3 = {'min_samples_leaf': np.arange(60, 101, 10), 'min_samples_split': np.arange(800, 1901, 200)}\n",
    "gsearch3 = GridSearchCV(estimator=GradientBoostingClassifier(learning_rate=0.1\n",
    "            , n_estimators=60, max_depth=7, max_features='sqrt',subsample=0.8, random_state=10)\n",
    "            , param_grid=param_test3, scoring='roc_auc', iid=False, cv=5)\n",
    "gsearch3.fit(X, Y)\n",
    "gsearch3.grid_scores_, gsearch3.best_params_, gsearch3.best_score_\n"
   ]
  },
  {
   "cell_type": "code",
   "execution_count": 42,
   "metadata": {},
   "outputs": [
    {
     "name": "stdout",
     "output_type": "stream",
     "text": [
      "accuracy = 0.984\nprob = 0.908099\n"
     ]
    }
   ],
   "source": [
    "gbm1 = GradientBoostingClassifier(learning_rate=0.1, n_estimators=60, max_depth=7,\n",
    "        min_samples_leaf=60, min_samples_split=1200, max_features='sqrt', subsample=0.8, random_state=10)\n",
    "gbm1.fit(X, Y)\n",
    "y_pred = gbm1.predict(X)\n",
    "y_predprob = gbm1.predict_proba(X)[:, 1]\n",
    "print(\"accuracy = %.4g\" % metrics.accuracy_score(Y, y_pred))\n",
    "print(\"prob = %f\" % metrics.roc_auc_score(Y, y_predprob))"
   ]
  },
  {
   "cell_type": "code",
   "execution_count": 43,
   "metadata": {},
   "outputs": [
    {
     "data": {
      "text/plain": [
       "([mean: 0.81312, std: 0.01925, params: {'max_features': 7},\n  mean: 0.80756, std: 0.02441, params: {'max_features': 9},\n  mean: 0.80348, std: 0.02478, params: {'max_features': 11},\n  mean: 0.80439, std: 0.01530, params: {'max_features': 13},\n  mean: 0.79978, std: 0.02228, params: {'max_features': 15},\n  mean: 0.80019, std: 0.01149, params: {'max_features': 17},\n  mean: 0.80774, std: 0.01601, params: {'max_features': 19}],\n {'min_samples_leaf': 60, 'min_samples_split': 1200},\n 0.8222032996697154)"
      ]
     },
     "execution_count": 43,
     "metadata": {},
     "output_type": "execute_result"
    }
   ],
   "source": [
    "param_test4 = {'max_features': np.arange(7, 20, 2)}\n",
    "gsearch4 = GridSearchCV(estimator=GradientBoostingClassifier(learning_rate=0.1\n",
    "            , n_estimators=60, max_depth=7, subsample=0.8, random_state=10)\n",
    "            , param_grid=param_test4, scoring='roc_auc', iid=False, cv=5)\n",
    "gsearch4.fit(X, Y)\n",
    "gsearch4.grid_scores_, gsearch3.best_params_, gsearch3.best_score_\n"
   ]
  },
  {
   "cell_type": "code",
   "execution_count": 44,
   "metadata": {},
   "outputs": [
    {
     "data": {
      "text/plain": [
       "([mean: 0.80741, std: 0.01607, params: {'subsample': 0.6},\n  mean: 0.81122, std: 0.01778, params: {'subsample': 0.7},\n  mean: 0.81192, std: 0.01814, params: {'subsample': 0.75},\n  mean: 0.81053, std: 0.01817, params: {'subsample': 0.8},\n  mean: 0.81075, std: 0.01675, params: {'subsample': 0.85},\n  mean: 0.81147, std: 0.01636, params: {'subsample': 0.9}],\n {'subsample': 0.75},\n 0.8119168413363822)"
      ]
     },
     "execution_count": 44,
     "metadata": {},
     "output_type": "execute_result"
    }
   ],
   "source": [
    "param_test5 = {'subsample': [0.6, 0.7, 0.75,0.8,0.85,0.9]}\n",
    "gsearch5 = GridSearchCV(estimator=GradientBoostingClassifier(learning_rate=0.1\n",
    "            , n_estimators=60, max_depth=7, min_samples_split=1200, min_samples_leaf=60, random_state=10)\n",
    "            , param_grid=param_test5, scoring='roc_auc', iid=False, cv=5)\n",
    "gsearch5.fit(X, Y)\n",
    "gsearch5.grid_scores_, gsearch5.best_params_, gsearch5.best_score_\n"
   ]
  },
  {
   "cell_type": "code",
   "execution_count": 45,
   "metadata": {},
   "outputs": [
    {
     "name": "stdout",
     "output_type": "stream",
     "text": [
      "accuracy = 0.984\nprob = 0.904292\n"
     ]
    }
   ],
   "source": [
    "gbm2 = GradientBoostingClassifier(learning_rate=0.05, n_estimators=120, max_depth=7,\n",
    "        min_samples_leaf=60, min_samples_split=1200, max_features='sqrt', subsample=0.75, random_state=10)\n",
    "gbm2.fit(X, Y)\n",
    "y_pred = gbm2.predict(X)\n",
    "y_predprob = gbm2.predict_proba(X)[:, 1]\n",
    "print(\"accuracy = %.4g\" % metrics.accuracy_score(Y, y_pred))\n",
    "print(\"prob = %f\" % metrics.roc_auc_score(Y, y_predprob))\n"
   ]
  },
  {
   "cell_type": "code",
   "execution_count": 46,
   "metadata": {},
   "outputs": [
    {
     "name": "stdout",
     "output_type": "stream",
     "text": [
      "accuracy = 0.984\nprob = 0.907265\n"
     ]
    }
   ],
   "source": [
    "gbm3 = GradientBoostingClassifier(learning_rate=0.01, n_estimators=600, max_depth=7,\n",
    "        min_samples_leaf=60, min_samples_split=1200, max_features='sqrt', subsample=0.75, random_state=10)\n",
    "gbm3.fit(X, Y)\n",
    "y_pred = gbm3.predict(X)\n",
    "y_predprob = gbm3.predict_proba(X)[:, 1]\n",
    "print(\"accuracy = %.4g\" % metrics.accuracy_score(Y, y_pred))\n",
    "print(\"prob = %f\" % metrics.roc_auc_score(Y, y_predprob))\n"
   ]
  },
  {
   "cell_type": "code",
   "execution_count": 47,
   "metadata": {},
   "outputs": [
    {
     "name": "stdout",
     "output_type": "stream",
     "text": [
      "accuracy = 0.984\nprob = 0.906993\n"
     ]
    }
   ],
   "source": [
    "gbm4 = GradientBoostingClassifier(learning_rate=0.005, n_estimators=1200, max_depth=7,\n",
    "        min_samples_leaf=60, min_samples_split=1200, max_features='sqrt', subsample=0.75, random_state=10)\n",
    "gbm4.fit(X, Y)\n",
    "y_pred = gbm4.predict(X)\n",
    "y_predprob = gbm4.predict_proba(X)[:, 1]\n",
    "print(\"accuracy = %.4g\" % metrics.accuracy_score(Y, y_pred))\n",
    "print(\"prob = %f\" % metrics.roc_auc_score(Y, y_predprob))\n",
    "\n"
   ]
  },
  {
   "cell_type": "code",
   "execution_count": null,
   "metadata": {},
   "outputs": [],
   "source": []
  }
 ],
 "metadata": {
  "kernelspec": {
   "display_name": "Python 2",
   "language": "python",
   "name": "python2"
  },
  "language_info": {
   "codemirror_mode": {
    "name": "ipython",
    "version": 2
   },
   "file_extension": ".py",
   "mimetype": "text/x-python",
   "name": "python",
   "nbconvert_exporter": "python",
   "pygments_lexer": "ipython2",
   "version": "2.7.6"
  }
 },
 "nbformat": 4,
 "nbformat_minor": 0
}
